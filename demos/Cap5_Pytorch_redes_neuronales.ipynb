{
 "cells": [
  {
   "cell_type": "markdown",
   "metadata": {},
   "source": [
    "### **MA5204: Aprendizaje de Máquinas**\n",
    "\n",
    "**Departamento de Ingeniería Matemática, Universidad de Chile**\n",
    "\n",
    "**Profesor:** Felipe Tobar\n",
    "\n",
    "**Ayudantes:** Alejandro Cuevas, Mauricio Araneda, Mauricio Romero"
   ]
  },
  {
   "cell_type": "markdown",
   "metadata": {},
   "source": [
    "# Pytorch\n",
    "\n",
    "En este notebook se muestran las estructuras básicas de pytorch, una implementación sencilla de red neuronal.\n",
    "\n",
    "\n",
    "Más tutoriales de pytorch los pueden encontran en https://pytorch.org/tutorials/\n",
    "\n",
    "Github: https://github.com/pytorch/pytorch\n",
    "\n",
    "Características de pytorch:\n",
    "* Permite trabajo en tensores, similares a numpy array pero permitiendo operaciones en la GPU.\n",
    "* Diferenciación automática para construir y entrenar modelos, en particular redes neuronales.\n",
    "* La gran diferencia con usar numpy es que Pytorch (al igual que tensorflow) construyen un grafo de computación, que luego es alimentado con los valores.\n",
    "\n",
    "Una de las principales diferencias entre tensorflow y pytorch es que tensorflow genera grafos estaticos, que deben ser construidos por completo antes de evaluarlos, en cambio pytorch presenta grafos dinámicos, pueden ser modificados y evaluados por nodo.\n",
    "\n",
    "Material complementario:\n",
    "\n",
    "https://jhui.github.io/2018/02/09/PyTorch-Basic-operations/"
   ]
  },
  {
   "cell_type": "markdown",
   "metadata": {},
   "source": [
    "\n",
    "## Tensores"
   ]
  },
  {
   "cell_type": "code",
   "execution_count": 1,
   "metadata": {
    "ExecuteTime": {
     "end_time": "2019-05-14T00:10:00.401050Z",
     "start_time": "2019-05-14T00:09:59.597139Z"
    }
   },
   "outputs": [],
   "source": [
    "%matplotlib inline\n",
    "import numpy as np\n",
    "import matplotlib.pyplot as plt\n",
    "import seaborn as sns\n",
    "\n",
    "import torch"
   ]
  },
  {
   "cell_type": "code",
   "execution_count": 2,
   "metadata": {
    "ExecuteTime": {
     "end_time": "2019-05-14T00:10:00.406640Z",
     "start_time": "2019-05-14T00:10:00.403709Z"
    }
   },
   "outputs": [],
   "source": [
    "sns.set_context('notebook', font_scale=1.5)\n",
    "sns.set_style('ticks')"
   ]
  },
  {
   "cell_type": "code",
   "execution_count": 3,
   "metadata": {
    "ExecuteTime": {
     "end_time": "2019-05-14T00:10:00.861415Z",
     "start_time": "2019-05-14T00:10:00.407941Z"
    }
   },
   "outputs": [],
   "source": [
    "device = torch.device(\"cpu\")\n",
    "# device = torch.device(\"cuda:0\") # descomentar para correr en GPU"
   ]
  },
  {
   "cell_type": "code",
   "execution_count": 4,
   "metadata": {
    "ExecuteTime": {
     "end_time": "2019-05-14T00:10:01.005545Z",
     "start_time": "2019-05-14T00:10:00.868270Z"
    }
   },
   "outputs": [
    {
     "data": {
      "text/plain": [
       "tensor([[1.3107e-30, 3.0808e-41, 3.3631e-44, 0.0000e+00],\n",
       "        [       nan, 0.0000e+00, 1.1578e+27, 1.1362e+30],\n",
       "        [7.1547e+22, 4.5828e+30, 1.2121e+04, 7.1846e+22]])"
      ]
     },
     "execution_count": 4,
     "metadata": {},
     "output_type": "execute_result"
    }
   ],
   "source": [
    "# tensor vacio\n",
    "torch.empty(3, 4)"
   ]
  },
  {
   "cell_type": "code",
   "execution_count": 5,
   "metadata": {
    "ExecuteTime": {
     "end_time": "2019-05-14T00:10:01.084102Z",
     "start_time": "2019-05-14T00:10:01.012803Z"
    }
   },
   "outputs": [
    {
     "data": {
      "text/plain": [
       "tensor([4, 5])"
      ]
     },
     "execution_count": 5,
     "metadata": {},
     "output_type": "execute_result"
    }
   ],
   "source": [
    "x = torch.arange(0, 10)\n",
    "x[4:6]"
   ]
  },
  {
   "cell_type": "code",
   "execution_count": 6,
   "metadata": {
    "ExecuteTime": {
     "end_time": "2019-05-14T00:10:01.199374Z",
     "start_time": "2019-05-14T00:10:01.086746Z"
    }
   },
   "outputs": [
    {
     "data": {
      "text/plain": [
       "tensor([[0.0434, 0.0472],\n",
       "        [0.7930, 0.4174]])"
      ]
     },
     "execution_count": 6,
     "metadata": {},
     "output_type": "execute_result"
    }
   ],
   "source": [
    "# tensor aleatorio\n",
    "torch.rand(2, 2)"
   ]
  },
  {
   "cell_type": "code",
   "execution_count": 7,
   "metadata": {
    "ExecuteTime": {
     "end_time": "2019-05-14T00:10:01.310576Z",
     "start_time": "2019-05-14T00:10:01.203394Z"
    }
   },
   "outputs": [
    {
     "data": {
      "text/plain": [
       "tensor([[1., 1.],\n",
       "        [1., 1.],\n",
       "        [1., 1.],\n",
       "        [1., 1.],\n",
       "        [1., 1.]])"
      ]
     },
     "execution_count": 7,
     "metadata": {},
     "output_type": "execute_result"
    }
   ],
   "source": [
    "# tensor de 1 igual que numpy\n",
    "x = torch.ones(5, 2)\n",
    "x"
   ]
  },
  {
   "cell_type": "code",
   "execution_count": 8,
   "metadata": {
    "ExecuteTime": {
     "end_time": "2019-05-14T00:10:01.418870Z",
     "start_time": "2019-05-14T00:10:01.313854Z"
    }
   },
   "outputs": [
    {
     "name": "stdout",
     "output_type": "stream",
     "text": [
      "<class 'torch.Tensor'>\n",
      "torch.Size([5, 2])\n",
      "torch.float32\n"
     ]
    }
   ],
   "source": [
    "# tipo de elemento\n",
    "print(type(x))\n",
    "\n",
    "# tamaño\n",
    "print(x.shape)\n",
    "\n",
    "# tipo de datos\n",
    "print(x.dtype)"
   ]
  },
  {
   "cell_type": "code",
   "execution_count": 9,
   "metadata": {
    "ExecuteTime": {
     "end_time": "2019-05-14T00:10:01.562788Z",
     "start_time": "2019-05-14T00:10:01.423721Z"
    }
   },
   "outputs": [
    {
     "data": {
      "text/plain": [
       "torch.float32"
      ]
     },
     "execution_count": 9,
     "metadata": {},
     "output_type": "execute_result"
    }
   ],
   "source": [
    "# por defecto pytorch usa floats de 32 bits\n",
    "torch.get_default_dtype()"
   ]
  },
  {
   "cell_type": "markdown",
   "metadata": {},
   "source": [
    "Tipos de dtype para los tensores\n",
    "\n",
    "https://pytorch.org/docs/stable/tensors.html"
   ]
  },
  {
   "cell_type": "code",
   "execution_count": 10,
   "metadata": {
    "ExecuteTime": {
     "end_time": "2019-05-14T00:10:01.674308Z",
     "start_time": "2019-05-14T00:10:01.567376Z"
    }
   },
   "outputs": [
    {
     "data": {
      "text/plain": [
       "torch.float64"
      ]
     },
     "execution_count": 10,
     "metadata": {},
     "output_type": "execute_result"
    }
   ],
   "source": [
    "# cambiamos tamaño por defecto\n",
    "torch.set_default_dtype(torch.float64)\n",
    "x = torch.empty(4, 2)\n",
    "\n",
    "x.dtype"
   ]
  },
  {
   "cell_type": "code",
   "execution_count": 11,
   "metadata": {
    "ExecuteTime": {
     "end_time": "2019-05-14T00:10:01.808873Z",
     "start_time": "2019-05-14T00:10:01.678256Z"
    }
   },
   "outputs": [
    {
     "data": {
      "text/plain": [
       "torch.float64"
      ]
     },
     "execution_count": 11,
     "metadata": {},
     "output_type": "execute_result"
    }
   ],
   "source": [
    "torch.get_default_dtype()"
   ]
  },
  {
   "cell_type": "code",
   "execution_count": 12,
   "metadata": {
    "ExecuteTime": {
     "end_time": "2019-05-14T00:10:01.917466Z",
     "start_time": "2019-05-14T00:10:01.813675Z"
    }
   },
   "outputs": [],
   "source": [
    "# tensor por defecto\n",
    "torch.set_default_tensor_type(torch.FloatTensor)"
   ]
  },
  {
   "cell_type": "code",
   "execution_count": 13,
   "metadata": {
    "ExecuteTime": {
     "end_time": "2019-05-14T00:10:02.009468Z",
     "start_time": "2019-05-14T00:10:01.921375Z"
    }
   },
   "outputs": [
    {
     "data": {
      "text/plain": [
       "torch.float32"
      ]
     },
     "execution_count": 13,
     "metadata": {},
     "output_type": "execute_result"
    }
   ],
   "source": [
    "torch.get_default_dtype()"
   ]
  },
  {
   "cell_type": "markdown",
   "metadata": {},
   "source": [
    "A partir de un tensor, podemos crear uno que este lleno de $1$ pero que sea del mismo tipo `tensor.dtype` y esté en el mismo dispositivo `tensor.device`"
   ]
  },
  {
   "cell_type": "code",
   "execution_count": 14,
   "metadata": {
    "ExecuteTime": {
     "end_time": "2019-05-14T00:10:02.146936Z",
     "start_time": "2019-05-14T00:10:02.013562Z"
    }
   },
   "outputs": [
    {
     "name": "stdout",
     "output_type": "stream",
     "text": [
      "torch.float64\n"
     ]
    },
    {
     "data": {
      "text/plain": [
       "tensor([[1., 1., 1.],\n",
       "        [1., 1., 1.],\n",
       "        [1., 1., 1.],\n",
       "        [1., 1., 1.],\n",
       "        [1., 1., 1.]], dtype=torch.float64)"
      ]
     },
     "execution_count": 14,
     "metadata": {},
     "output_type": "execute_result"
    }
   ],
   "source": [
    "x = x.new_ones(5, 3, dtype=torch.double)\n",
    "print(x.dtype)\n",
    "x"
   ]
  },
  {
   "cell_type": "code",
   "execution_count": 15,
   "metadata": {
    "ExecuteTime": {
     "end_time": "2019-05-14T00:10:02.256518Z",
     "start_time": "2019-05-14T00:10:02.151732Z"
    }
   },
   "outputs": [
    {
     "name": "stdout",
     "output_type": "stream",
     "text": [
      "torch.float32\n"
     ]
    },
    {
     "data": {
      "text/plain": [
       "tensor([[0.3374, 0.3684, 0.9114],\n",
       "        [0.4052, 0.9241, 0.2103],\n",
       "        [0.0921, 0.8724, 0.1133],\n",
       "        [0.2441, 0.5010, 0.2280],\n",
       "        [0.1974, 0.9957, 0.7945]])"
      ]
     },
     "execution_count": 15,
     "metadata": {},
     "output_type": "execute_result"
    }
   ],
   "source": [
    "y = torch.rand(5, 3)\n",
    "print(y.dtype)\n",
    "y"
   ]
  },
  {
   "cell_type": "markdown",
   "metadata": {},
   "source": [
    "__Cuidado con sumar objetos de distintos tipo__"
   ]
  },
  {
   "cell_type": "code",
   "execution_count": 16,
   "metadata": {
    "ExecuteTime": {
     "end_time": "2019-05-14T00:10:02.348356Z",
     "start_time": "2019-05-14T00:10:02.260669Z"
    }
   },
   "outputs": [],
   "source": [
    "# y + x"
   ]
  },
  {
   "cell_type": "code",
   "execution_count": 17,
   "metadata": {
    "ExecuteTime": {
     "end_time": "2019-05-14T00:10:02.488869Z",
     "start_time": "2019-05-14T00:10:02.349901Z"
    }
   },
   "outputs": [
    {
     "data": {
      "text/plain": [
       "tensor([[1.3374, 1.3684, 1.9114],\n",
       "        [1.4052, 1.9241, 1.2103],\n",
       "        [1.0921, 1.8724, 1.1133],\n",
       "        [1.2441, 1.5010, 1.2280],\n",
       "        [1.1974, 1.9957, 1.7945]])"
      ]
     },
     "execution_count": 17,
     "metadata": {},
     "output_type": "execute_result"
    }
   ],
   "source": [
    "# casteamos a float 32\n",
    "x = x.type(torch.float32)\n",
    "\n",
    "x + y"
   ]
  },
  {
   "cell_type": "code",
   "execution_count": 18,
   "metadata": {
    "ExecuteTime": {
     "end_time": "2019-05-14T00:10:02.649834Z",
     "start_time": "2019-05-14T00:10:02.503892Z"
    }
   },
   "outputs": [
    {
     "data": {
      "text/plain": [
       "tensor([[1.3374, 1.3684, 1.9114],\n",
       "        [1.4052, 1.9241, 1.2103],\n",
       "        [1.0921, 1.8724, 1.1133],\n",
       "        [1.2441, 1.5010, 1.2280],\n",
       "        [1.1974, 1.9957, 1.7945]])"
      ]
     },
     "execution_count": 18,
     "metadata": {},
     "output_type": "execute_result"
    }
   ],
   "source": [
    "# tambien podemos sumar en pytorch\n",
    "torch.add(x, y)"
   ]
  },
  {
   "cell_type": "code",
   "execution_count": 19,
   "metadata": {
    "ExecuteTime": {
     "end_time": "2019-05-14T00:10:02.752772Z",
     "start_time": "2019-05-14T00:10:02.652724Z"
    }
   },
   "outputs": [
    {
     "data": {
      "text/plain": [
       "tensor([[1.3374, 1.3684, 1.9114],\n",
       "        [1.4052, 1.9241, 1.2103],\n",
       "        [1.0921, 1.8724, 1.1133],\n",
       "        [1.2441, 1.5010, 1.2280],\n",
       "        [1.1974, 1.9957, 1.7945]])"
      ]
     },
     "execution_count": 19,
     "metadata": {},
     "output_type": "execute_result"
    }
   ],
   "source": [
    "# podemos crear un contenedor para recibir el resultado\n",
    "result = torch.empty(5, 3)\n",
    "torch.add(x, y, out=result)\n",
    "result"
   ]
  },
  {
   "cell_type": "code",
   "execution_count": 20,
   "metadata": {
    "ExecuteTime": {
     "end_time": "2019-05-14T00:10:02.872140Z",
     "start_time": "2019-05-14T00:10:02.755717Z"
    }
   },
   "outputs": [
    {
     "data": {
      "text/plain": [
       "tensor([[1.3374, 1.3684, 1.9114],\n",
       "        [1.4052, 1.9241, 1.2103],\n",
       "        [1.0921, 1.8724, 1.1133],\n",
       "        [1.2441, 1.5010, 1.2280],\n",
       "        [1.1974, 1.9957, 1.7945]])"
      ]
     },
     "execution_count": 20,
     "metadata": {},
     "output_type": "execute_result"
    }
   ],
   "source": [
    "# no modificamos ni x ni y\n",
    "y.add(x)"
   ]
  },
  {
   "cell_type": "code",
   "execution_count": 21,
   "metadata": {
    "ExecuteTime": {
     "end_time": "2019-05-14T00:10:02.980370Z",
     "start_time": "2019-05-14T00:10:02.874001Z"
    }
   },
   "outputs": [
    {
     "data": {
      "text/plain": [
       "tensor([[0.3374, 0.3684, 0.9114],\n",
       "        [0.4052, 0.9241, 0.2103],\n",
       "        [0.0921, 0.8724, 0.1133],\n",
       "        [0.2441, 0.5010, 0.2280],\n",
       "        [0.1974, 0.9957, 0.7945]])"
      ]
     },
     "execution_count": 21,
     "metadata": {},
     "output_type": "execute_result"
    }
   ],
   "source": [
    "y"
   ]
  },
  {
   "cell_type": "code",
   "execution_count": 22,
   "metadata": {
    "ExecuteTime": {
     "end_time": "2019-05-14T00:10:03.083571Z",
     "start_time": "2019-05-14T00:10:02.984068Z"
    }
   },
   "outputs": [
    {
     "data": {
      "text/plain": [
       "tensor([[1.3374, 1.3684, 1.9114],\n",
       "        [1.4052, 1.9241, 1.2103],\n",
       "        [1.0921, 1.8724, 1.1133],\n",
       "        [1.2441, 1.5010, 1.2280],\n",
       "        [1.1974, 1.9957, 1.7945]])"
      ]
     },
     "execution_count": 22,
     "metadata": {},
     "output_type": "execute_result"
    }
   ],
   "source": [
    "# Si ponemos un '_' al final de la operación, esta es 'in place' y modifica el tensor\n",
    "y.add_(x)"
   ]
  },
  {
   "cell_type": "code",
   "execution_count": 23,
   "metadata": {
    "ExecuteTime": {
     "end_time": "2019-05-14T00:10:03.187682Z",
     "start_time": "2019-05-14T00:10:03.084964Z"
    }
   },
   "outputs": [
    {
     "data": {
      "text/plain": [
       "tensor([[1.3374, 1.3684, 1.9114],\n",
       "        [1.4052, 1.9241, 1.2103],\n",
       "        [1.0921, 1.8724, 1.1133],\n",
       "        [1.2441, 1.5010, 1.2280],\n",
       "        [1.1974, 1.9957, 1.7945]])"
      ]
     },
     "execution_count": 23,
     "metadata": {},
     "output_type": "execute_result"
    }
   ],
   "source": [
    "y"
   ]
  },
  {
   "cell_type": "markdown",
   "metadata": {},
   "source": [
    "## De Torch a Numpy\n",
    "\n",
    "El tensor de Torch y el Numpy array comparten los mismos espacios de memoria, es decir, al cambiar uno cambia el otro."
   ]
  },
  {
   "cell_type": "code",
   "execution_count": 24,
   "metadata": {
    "ExecuteTime": {
     "end_time": "2019-05-14T00:10:03.290632Z",
     "start_time": "2019-05-14T00:10:03.192387Z"
    }
   },
   "outputs": [
    {
     "name": "stdout",
     "output_type": "stream",
     "text": [
      "<class 'numpy.ndarray'>\n"
     ]
    },
    {
     "data": {
      "text/plain": [
       "array([[1.3374019, 1.3683779, 1.9114177],\n",
       "       [1.4052441, 1.9240751, 1.21033  ],\n",
       "       [1.0921068, 1.8723781, 1.1132703],\n",
       "       [1.2441072, 1.500956 , 1.2280409],\n",
       "       [1.1974003, 1.9957157, 1.7945341]], dtype=float32)"
      ]
     },
     "execution_count": 24,
     "metadata": {},
     "output_type": "execute_result"
    }
   ],
   "source": [
    "y_np = y.numpy()\n",
    "print(type(y_np))\n",
    "y_np"
   ]
  },
  {
   "cell_type": "code",
   "execution_count": 25,
   "metadata": {
    "ExecuteTime": {
     "end_time": "2019-05-14T00:10:03.420072Z",
     "start_time": "2019-05-14T00:10:03.295100Z"
    }
   },
   "outputs": [
    {
     "name": "stdout",
     "output_type": "stream",
     "text": [
      "tensor([[2.3374, 2.3684, 2.9114],\n",
      "        [2.4052, 2.9241, 2.2103],\n",
      "        [2.0921, 2.8724, 2.1133],\n",
      "        [2.2441, 2.5010, 2.2280],\n",
      "        [2.1974, 2.9957, 2.7945]])\n",
      "[[2.3374019 2.368378  2.9114177]\n",
      " [2.405244  2.9240751 2.21033  ]\n",
      " [2.0921068 2.872378  2.1132703]\n",
      " [2.2441072 2.500956  2.228041 ]\n",
      " [2.1974003 2.9957156 2.7945342]]\n"
     ]
    }
   ],
   "source": [
    "y.add_(1)\n",
    "\n",
    "print(y)\n",
    "print(y_np)"
   ]
  },
  {
   "cell_type": "markdown",
   "metadata": {},
   "source": [
    "## De Numpy a Torch"
   ]
  },
  {
   "cell_type": "code",
   "execution_count": 26,
   "metadata": {
    "ExecuteTime": {
     "end_time": "2019-05-14T00:10:03.533869Z",
     "start_time": "2019-05-14T00:10:03.425666Z"
    }
   },
   "outputs": [
    {
     "name": "stdout",
     "output_type": "stream",
     "text": [
      "[2. 2. 2. 2. 2.]\n",
      "tensor([2., 2., 2., 2., 2.], dtype=torch.float64)\n"
     ]
    }
   ],
   "source": [
    "a = np.ones(5)\n",
    "b = torch.from_numpy(a)\n",
    "\n",
    "np.add(a, 1, out=a)\n",
    "print(a)\n",
    "print(b)"
   ]
  },
  {
   "cell_type": "markdown",
   "metadata": {},
   "source": [
    "## Matrices, vectores"
   ]
  },
  {
   "cell_type": "code",
   "execution_count": 27,
   "metadata": {
    "ExecuteTime": {
     "end_time": "2019-05-14T00:10:03.662962Z",
     "start_time": "2019-05-14T00:10:03.537634Z"
    }
   },
   "outputs": [
    {
     "data": {
      "text/plain": [
       "tensor(1.7587)"
      ]
     },
     "execution_count": 27,
     "metadata": {},
     "output_type": "execute_result"
    }
   ],
   "source": [
    "# producto punto\n",
    "# vector X vector\n",
    "\n",
    "vec1 = torch.rand(5)\n",
    "vec2 = torch.ones(5)\n",
    "\n",
    "torch.dot(vec1, vec2)"
   ]
  },
  {
   "cell_type": "code",
   "execution_count": 28,
   "metadata": {
    "ExecuteTime": {
     "end_time": "2019-05-14T00:10:03.821731Z",
     "start_time": "2019-05-14T00:10:03.664563Z"
    }
   },
   "outputs": [
    {
     "data": {
      "text/plain": [
       "tensor([[1.6941, 1.6941, 1.6941, 1.6941, 1.6941],\n",
       "        [2.1536, 2.1536, 2.1536, 2.1536, 2.1536],\n",
       "        [2.1238, 2.1238, 2.1238, 2.1238, 2.1238],\n",
       "        [2.1417, 2.1417, 2.1417, 2.1417, 2.1417],\n",
       "        [2.1500, 2.1500, 2.1500, 2.1500, 2.1500]])"
      ]
     },
     "execution_count": 28,
     "metadata": {},
     "output_type": "execute_result"
    }
   ],
   "source": [
    "# matriz X matriz\n",
    "\n",
    "mat1 = torch.rand(5, 4)\n",
    "mat2 = torch.ones(4, 5)\n",
    "\n",
    "torch.mm(mat1, mat2)"
   ]
  },
  {
   "cell_type": "markdown",
   "metadata": {},
   "source": [
    "**Cuidado con las operaciones**"
   ]
  },
  {
   "cell_type": "code",
   "execution_count": 29,
   "metadata": {
    "ExecuteTime": {
     "end_time": "2019-05-14T00:10:03.906061Z",
     "start_time": "2019-05-14T00:10:03.826132Z"
    }
   },
   "outputs": [],
   "source": [
    "# torch.dot(mat1, mat2)"
   ]
  },
  {
   "cell_type": "code",
   "execution_count": 30,
   "metadata": {
    "ExecuteTime": {
     "end_time": "2019-05-14T00:10:04.044687Z",
     "start_time": "2019-05-14T00:10:03.910145Z"
    }
   },
   "outputs": [
    {
     "data": {
      "text/plain": [
       "tensor([ 0.8841,  0.7744, -2.0297])"
      ]
     },
     "execution_count": 30,
     "metadata": {},
     "output_type": "execute_result"
    }
   ],
   "source": [
    "# Matriz X vector\n",
    "\n",
    "mat = torch.randn(3, 5)\n",
    "vec = torch.randn(5)\n",
    "\n",
    "torch.mv(mat, vec)"
   ]
  },
  {
   "cell_type": "code",
   "execution_count": 31,
   "metadata": {
    "ExecuteTime": {
     "end_time": "2019-05-14T00:10:04.149748Z",
     "start_time": "2019-05-14T00:10:04.047127Z"
    }
   },
   "outputs": [
    {
     "data": {
      "text/plain": [
       "tensor([0.4309, 1.3972, 2.4372])"
      ]
     },
     "execution_count": 31,
     "metadata": {},
     "output_type": "execute_result"
    }
   ],
   "source": [
    "# Matriz + Matrix z vector\n",
    "\n",
    "M = torch.randn(3)\n",
    "mat = torch.randn(3, 5)\n",
    "vec = torch.randn(5)\n",
    "torch.addmv(M, mat, vec)"
   ]
  },
  {
   "cell_type": "code",
   "execution_count": 32,
   "metadata": {
    "ExecuteTime": {
     "end_time": "2019-05-14T00:10:04.262343Z",
     "start_time": "2019-05-14T00:10:04.151253Z"
    }
   },
   "outputs": [
    {
     "data": {
      "text/plain": [
       "tensor([[1, 2],\n",
       "        [2, 4],\n",
       "        [3, 6]])"
      ]
     },
     "execution_count": 32,
     "metadata": {},
     "output_type": "execute_result"
    }
   ],
   "source": [
    "# producto externo\n",
    "\n",
    "vec1 = torch.arange(1, 4)\n",
    "vec2 = torch.arange(1, 3)\n",
    "\n",
    "torch.ger(vec1, vec2)"
   ]
  },
  {
   "cell_type": "markdown",
   "metadata": {},
   "source": [
    "## Broadcasting\n",
    "\n",
    "Dos tensores $X, Y$ son \"broadcasteable\" si se cumplen las siguientes reglas:\n",
    "\n",
    "* Cada tensor tiene al menos 1 dimension.\n",
    "* Cuando se itera sobre las dimensiones, empezando desde la ultima, las dimensiones deben ser o iguales, o alguna de ellas debe ser 1, o una de ellas no existe.\n",
    "\n",
    "\n",
    "En caso de ser así, el tamaño final es de la forma:\n",
    "\n",
    "* Si el numero de dimensiones entre $X$ e $Y$ no son iguales, se agrega $1$ a las dimensiones del tensor con menos dimensiones para hacerlas de igual largo.\n",
    "\n",
    "* Luego, para cada dimension, el tamaño de dicha dimension es el máximo de los tamaños de $X$ e $Y$ en dicha dimension.\n",
    "\n"
   ]
  },
  {
   "cell_type": "code",
   "execution_count": 33,
   "metadata": {
    "ExecuteTime": {
     "end_time": "2019-05-14T00:10:04.395767Z",
     "start_time": "2019-05-14T00:10:04.263960Z"
    }
   },
   "outputs": [],
   "source": [
    "x = torch.empty(5, 7, 3)\n",
    "y = torch.empty(5, 7, 3)\n",
    "# tensores del mismo tamaño son siempre broadcastable"
   ]
  },
  {
   "cell_type": "code",
   "execution_count": 34,
   "metadata": {
    "ExecuteTime": {
     "end_time": "2019-05-14T00:10:04.526358Z",
     "start_time": "2019-05-14T00:10:04.399821Z"
    }
   },
   "outputs": [],
   "source": [
    "x = torch.empty(5, 3, 4, 1)\n",
    "y = torch.empty(   3, 1, 1)\n",
    "# x e y son broadcastable.\n",
    "# 1st trailing dimension: ambas tienen tamaño 1\n",
    "# 2nd trailing dimension: y tiene tamaño 1\n",
    "# 3rd trailing dimension: tamaño x == tamaño y \n",
    "# 4th trailing dimension: dimension de y no existe"
   ]
  },
  {
   "cell_type": "code",
   "execution_count": 35,
   "metadata": {
    "ExecuteTime": {
     "end_time": "2019-05-14T00:10:04.691282Z",
     "start_time": "2019-05-14T00:10:04.527712Z"
    }
   },
   "outputs": [],
   "source": [
    "x = torch.empty(5, 2, 4, 1)\n",
    "y = torch.empty(   3, 1, 1)\n",
    "# x e y no son broadcastable, porque en la 3rd trailing dimension 2 != 3"
   ]
  },
  {
   "cell_type": "code",
   "execution_count": 36,
   "metadata": {
    "ExecuteTime": {
     "end_time": "2019-05-14T00:10:04.806709Z",
     "start_time": "2019-05-14T00:10:04.692840Z"
    }
   },
   "outputs": [
    {
     "data": {
      "text/plain": [
       "tensor([[ 1.,  0., -1., -2., -3.],\n",
       "        [ 1.,  0., -1., -2., -3.],\n",
       "        [ 1.,  0., -1., -2., -3.],\n",
       "        [ 1.,  0., -1., -2., -3.],\n",
       "        [ 1.,  0., -1., -2., -3.]])"
      ]
     },
     "execution_count": 36,
     "metadata": {},
     "output_type": "execute_result"
    }
   ],
   "source": [
    "x = torch.ones(5, 1)\n",
    "y = torch.arange(5, dtype=torch.float32)\n",
    "\n",
    "x - y"
   ]
  },
  {
   "cell_type": "markdown",
   "metadata": {},
   "source": [
    "## Autograd\n",
    "\n",
    "El package the `Autograd` permite diferenciación automática para todas las operaciones con tensores. Especialmente util al realizar _Backpropagation_ en las redes neuronales.\n",
    "\n",
    "Para activarlo, al crear un tensor se debe fijar el atributo `.requires_grad` como `True` guarda todas las operaciones en dicho tensor, cuando terminas de realizar calculos (Por ejemplo aplicar capas de una red) se puede llamar a `.backward()` y tener todos los gradientes calculados automáticamente. Donde el gradiente del tensor queda acumulado en el atributo `.grad`"
   ]
  },
  {
   "cell_type": "code",
   "execution_count": 37,
   "metadata": {
    "ExecuteTime": {
     "end_time": "2019-05-14T00:10:04.920996Z",
     "start_time": "2019-05-14T00:10:04.808363Z"
    }
   },
   "outputs": [
    {
     "data": {
      "text/plain": [
       "tensor([[1., 1.],\n",
       "        [1., 1.]], requires_grad=True)"
      ]
     },
     "execution_count": 37,
     "metadata": {},
     "output_type": "execute_result"
    }
   ],
   "source": [
    "x = torch.ones(2, 2, requires_grad=True)\n",
    "x"
   ]
  },
  {
   "cell_type": "markdown",
   "metadata": {},
   "source": [
    "operemos sobre $x$ y veamos si guardas las operaciones"
   ]
  },
  {
   "cell_type": "code",
   "execution_count": 38,
   "metadata": {
    "ExecuteTime": {
     "end_time": "2019-05-14T00:10:05.033031Z",
     "start_time": "2019-05-14T00:10:04.925673Z"
    }
   },
   "outputs": [
    {
     "data": {
      "text/plain": [
       "tensor([[3., 3.],\n",
       "        [3., 3.]], grad_fn=<AddBackward0>)"
      ]
     },
     "execution_count": 38,
     "metadata": {},
     "output_type": "execute_result"
    }
   ],
   "source": [
    "# operamos sobre el tensor\n",
    "y = x + 2\n",
    "y"
   ]
  },
  {
   "cell_type": "code",
   "execution_count": 39,
   "metadata": {
    "ExecuteTime": {
     "end_time": "2019-05-14T00:10:05.138884Z",
     "start_time": "2019-05-14T00:10:05.035860Z"
    }
   },
   "outputs": [
    {
     "data": {
      "text/plain": [
       "True"
      ]
     },
     "execution_count": 39,
     "metadata": {},
     "output_type": "execute_result"
    }
   ],
   "source": [
    "y.requires_grad"
   ]
  },
  {
   "cell_type": "code",
   "execution_count": 40,
   "metadata": {
    "ExecuteTime": {
     "end_time": "2019-05-14T00:10:05.255812Z",
     "start_time": "2019-05-14T00:10:05.140622Z"
    }
   },
   "outputs": [
    {
     "data": {
      "text/plain": [
       "<AddBackward0 at 0x7f14cc9da0f0>"
      ]
     },
     "execution_count": 40,
     "metadata": {},
     "output_type": "execute_result"
    }
   ],
   "source": [
    "y.grad_fn"
   ]
  },
  {
   "cell_type": "markdown",
   "metadata": {},
   "source": [
    "Sigamos operando sobre $y$."
   ]
  },
  {
   "cell_type": "code",
   "execution_count": 41,
   "metadata": {
    "ExecuteTime": {
     "end_time": "2019-05-14T00:10:05.366645Z",
     "start_time": "2019-05-14T00:10:05.260079Z"
    }
   },
   "outputs": [
    {
     "name": "stdout",
     "output_type": "stream",
     "text": [
      "tensor([[27., 27.],\n",
      "        [27., 27.]], grad_fn=<MulBackward0>)\n",
      "tensor(27., grad_fn=<MeanBackward1>)\n"
     ]
    }
   ],
   "source": [
    "z = y * y * 3\n",
    "out = z.mean()\n",
    "\n",
    "print(z)\n",
    "print(out)"
   ]
  },
  {
   "cell_type": "markdown",
   "metadata": {},
   "source": [
    "Podemos cambiar la _flag_ de gradiente, que por defecto es `False`"
   ]
  },
  {
   "cell_type": "code",
   "execution_count": 42,
   "metadata": {
    "ExecuteTime": {
     "end_time": "2019-05-14T00:10:05.475839Z",
     "start_time": "2019-05-14T00:10:05.371921Z"
    }
   },
   "outputs": [
    {
     "name": "stdout",
     "output_type": "stream",
     "text": [
      "False\n",
      "True\n",
      "<SumBackward0 object at 0x7f14cc9da438>\n"
     ]
    }
   ],
   "source": [
    "# creamos tensor\n",
    "a = torch.randn(2, 2)\n",
    "a = ((a * 3) / (a - 1))\n",
    "# muestra si require gradiente\n",
    "print(a.requires_grad)\n",
    "\n",
    "# cambiar el flag\n",
    "a.requires_grad_(True)\n",
    "\n",
    "print(a.requires_grad)\n",
    "\n",
    "b = (a * a).sum()\n",
    "print(b.grad_fn)"
   ]
  },
  {
   "cell_type": "markdown",
   "metadata": {},
   "source": [
    "### Gradientes"
   ]
  },
  {
   "cell_type": "code",
   "execution_count": 43,
   "metadata": {
    "ExecuteTime": {
     "end_time": "2019-05-14T00:10:05.635195Z",
     "start_time": "2019-05-14T00:10:05.479757Z"
    }
   },
   "outputs": [],
   "source": [
    "# calculamos el gradiente\n",
    "out.backward()"
   ]
  },
  {
   "cell_type": "markdown",
   "metadata": {},
   "source": [
    "Mostramos el gradiente evaluado en x\n",
    "\n",
    "$$\\frac{d (out)}{dx} |_{x=X}$$\n",
    "\n",
    "Como out es una función escalar, el gradiente va a ser una matriz de $2 \\times 2$"
   ]
  },
  {
   "cell_type": "code",
   "execution_count": 44,
   "metadata": {
    "ExecuteTime": {
     "end_time": "2019-05-14T00:10:05.722129Z",
     "start_time": "2019-05-14T00:10:05.638350Z"
    }
   },
   "outputs": [
    {
     "data": {
      "text/plain": [
       "tensor([[4.5000, 4.5000],\n",
       "        [4.5000, 4.5000]])"
      ]
     },
     "execution_count": 44,
     "metadata": {},
     "output_type": "execute_result"
    }
   ],
   "source": [
    "x.grad"
   ]
  },
  {
   "cell_type": "markdown",
   "metadata": {},
   "source": [
    "Si tenemos una función $f(x) \\in \\mathbb{R}^m$ y un input $x \\in \\mathbb{R}^p$, luego el gradiente de $f$ respecto a $x$ es una matriz Jacobiana de $p \\times m$.\n",
    "\n",
    "¿Pero que pasa al evaluarla en pytorch con nuestro tensor?"
   ]
  },
  {
   "cell_type": "code",
   "execution_count": 45,
   "metadata": {
    "ExecuteTime": {
     "end_time": "2019-05-14T00:10:05.831788Z",
     "start_time": "2019-05-14T00:10:05.726228Z"
    }
   },
   "outputs": [
    {
     "name": "stdout",
     "output_type": "stream",
     "text": [
      "tensor([ 655.8536, -350.4472, -962.3159], grad_fn=<MulBackward0>)\n"
     ]
    }
   ],
   "source": [
    "x = torch.randn(3, requires_grad=True)\n",
    "\n",
    "y = x * 2\n",
    "# sacamos cuadrado hasta cierto límite\n",
    "while y.data.norm() < 1000:\n",
    "    y = y * 2\n",
    "\n",
    "print(y)"
   ]
  },
  {
   "cell_type": "markdown",
   "metadata": {},
   "source": [
    "Como ahora nuestro output es un vector, __no__ podemos obtener el Jacobiano directamente "
   ]
  },
  {
   "cell_type": "code",
   "execution_count": 46,
   "metadata": {
    "ExecuteTime": {
     "end_time": "2019-05-14T00:10:05.938882Z",
     "start_time": "2019-05-14T00:10:05.836068Z"
    }
   },
   "outputs": [],
   "source": [
    "# y.backward()\n",
    "# x.grad()"
   ]
  },
  {
   "cell_type": "markdown",
   "metadata": {},
   "source": [
    "Autograd fue construido para poder computar un porducto vector-jacobiano, es decir, dado una matriz Jacobiana $J=\\frac{d y}{d x}$ y un vector cualquiera $v$ computa el producto $v^T \\cdot J$.\n",
    "\n",
    "Si $v$ es el gradiente de una función escalar $v = \\frac{d (g)}{d y}$ entonces podemos escribir el producto vector-jacobiano por la regla de la cadena.\n",
    "\n",
    "$$ J^T \\cdot v = \\frac{d g}{dx}$$"
   ]
  },
  {
   "cell_type": "code",
   "execution_count": 47,
   "metadata": {
    "ExecuteTime": {
     "end_time": "2019-05-14T00:10:06.054009Z",
     "start_time": "2019-05-14T00:10:05.943295Z"
    }
   },
   "outputs": [
    {
     "name": "stdout",
     "output_type": "stream",
     "text": [
      "tensor([2.0480e+02, 2.0480e+03, 2.0480e-01])\n"
     ]
    }
   ],
   "source": [
    "v = torch.tensor([0.1, 1.0, 0.0001], dtype=torch.float)\n",
    "y.backward(v)\n",
    "\n",
    "print(x.grad)"
   ]
  },
  {
   "cell_type": "markdown",
   "metadata": {},
   "source": [
    "# Redes Neuronales\n",
    "\n",
    "Para definir una red en pytorch en general se siguen los siguentes pasos.\n",
    "\n",
    "* Definir la red que tenga parametros entrenables (pesos)\n",
    "* Iterar sobre el dataset de inputs\n",
    "* Procesas el input a traves de la red\n",
    "* Calcular la función de perdida (loss)\n",
    "* Propagar los gradientes hacia los parametros de la red\n",
    "* Actualizar los pesos de la red siguiendo una regla, en general se usa gradiente decendiente.\n",
    "\n",
    "$$ w_{i+1} = w_i - \\alpha \\nabla_x \\mathcal{L}$$"
   ]
  },
  {
   "cell_type": "markdown",
   "metadata": {},
   "source": [
    "### Importemos datos"
   ]
  },
  {
   "cell_type": "code",
   "execution_count": 48,
   "metadata": {
    "ExecuteTime": {
     "end_time": "2019-05-14T00:10:06.162321Z",
     "start_time": "2019-05-14T00:10:06.059023Z"
    }
   },
   "outputs": [],
   "source": [
    "torch.set_default_dtype(torch.float32)"
   ]
  },
  {
   "cell_type": "code",
   "execution_count": 49,
   "metadata": {
    "ExecuteTime": {
     "end_time": "2019-05-14T00:10:06.498335Z",
     "start_time": "2019-05-14T00:10:06.166759Z"
    }
   },
   "outputs": [
    {
     "name": "stdout",
     "output_type": "stream",
     "text": [
      "dict_keys(['data', 'target', 'target_names', 'DESCR', 'feature_names', 'filename'])\n"
     ]
    }
   ],
   "source": [
    "from sklearn.datasets import load_breast_cancer\n",
    "\n",
    "data = load_breast_cancer()\n",
    "print(data.keys())\n",
    "\n",
    "from sklearn.model_selection import train_test_split\n",
    "\n",
    "X_train, X_test, y_train, y_test = train_test_split(\n",
    "    data.data, data.target, test_size=0.33, random_state=42)"
   ]
  },
  {
   "cell_type": "code",
   "execution_count": 50,
   "metadata": {
    "ExecuteTime": {
     "end_time": "2019-05-14T00:10:06.507828Z",
     "start_time": "2019-05-14T00:10:06.500059Z"
    }
   },
   "outputs": [],
   "source": [
    "from torch.utils.data import Dataset, DataLoader\n",
    "\n",
    "class wisconsin(Dataset):\n",
    "    \"\"\"\n",
    "    Breast cancer wisconsin dataset\n",
    "    Recive el numpy array con los atributos\n",
    "    y targeres\n",
    "    \"\"\"\n",
    "    def __init__(self, X, y):\n",
    "        self.data = torch.from_numpy(X).type(torch.float32)\n",
    "        self.target = torch.from_numpy(y).long()\n",
    "        \n",
    "    def __len__(self):\n",
    "        return len(self.data)\n",
    "    \n",
    "    def __getitem__(self, idx):\n",
    "        \"\"\"\n",
    "        Entrega un elemento del dataset\n",
    "        \"\"\"\n",
    "        features = self.data[idx, :]\n",
    "        target = self.target[idx]\n",
    "        \n",
    "        return features, target\n",
    "\n",
    "# crear dataset\n",
    "trainset = wisconsin(X_train, y_train)\n",
    "# convertir test set\n",
    "X_test = torch.from_numpy(X_test).type(torch.float32)\n",
    "y_test = torch.from_numpy(y_test).long()"
   ]
  },
  {
   "cell_type": "code",
   "execution_count": 51,
   "metadata": {
    "ExecuteTime": {
     "end_time": "2019-05-14T00:10:06.648283Z",
     "start_time": "2019-05-14T00:10:06.509255Z"
    }
   },
   "outputs": [],
   "source": [
    "# cargador de datos\n",
    "trainloader = DataLoader(trainset,\n",
    "                         batch_size=20,\n",
    "                         shuffle=True,\n",
    "                         num_workers=2)"
   ]
  },
  {
   "cell_type": "markdown",
   "metadata": {},
   "source": [
    "### Creemos la red"
   ]
  },
  {
   "cell_type": "code",
   "execution_count": 52,
   "metadata": {
    "ExecuteTime": {
     "end_time": "2019-05-14T00:10:06.761839Z",
     "start_time": "2019-05-14T00:10:06.653548Z"
    }
   },
   "outputs": [],
   "source": [
    "import torch.nn as nn\n",
    "import torch.nn.functional as F\n",
    "import torch.optim as optim"
   ]
  },
  {
   "cell_type": "code",
   "execution_count": 53,
   "metadata": {
    "ExecuteTime": {
     "end_time": "2019-05-14T00:10:06.885183Z",
     "start_time": "2019-05-14T00:10:06.766847Z"
    }
   },
   "outputs": [],
   "source": [
    "class NNet(nn.Module):\n",
    "    \"\"\"\n",
    "    Red Neuronal\n",
    "    \"\"\"\n",
    "    def __init__(self):\n",
    "        super(NNet, self).__init__()\n",
    "        \n",
    "        # definicion de capas\n",
    "        self.fc1 = nn.Linear(30, 600)\n",
    "        self.sig1 = nn.Sigmoid()\n",
    "        self.fc2 = nn.Linear(600, 2)\n",
    "        self.out = nn.Sigmoid()\n",
    "        \n",
    "    def forward(self, x):\n",
    "        \"\"\"\n",
    "        Funcion que se aplica a los datos, \n",
    "        es decir funcion que aplica la red\n",
    "        \"\"\"\n",
    "        y = self.fc1(x)\n",
    "        y = self.sig1(y)\n",
    "        y = self.fc2(y)\n",
    "        y = self.out(y)\n",
    "\n",
    "        return y"
   ]
  },
  {
   "cell_type": "code",
   "execution_count": 54,
   "metadata": {
    "ExecuteTime": {
     "end_time": "2019-05-14T00:10:07.003070Z",
     "start_time": "2019-05-14T00:10:06.890085Z"
    }
   },
   "outputs": [
    {
     "name": "stdout",
     "output_type": "stream",
     "text": [
      "NNet(\n",
      "  (fc1): Linear(in_features=30, out_features=600, bias=True)\n",
      "  (sig1): Sigmoid()\n",
      "  (fc2): Linear(in_features=600, out_features=2, bias=True)\n",
      "  (out): Sigmoid()\n",
      ")\n"
     ]
    }
   ],
   "source": [
    "model = NNet()\n",
    "print(model)\n",
    "\n",
    "criterion = nn.CrossEntropyLoss()\n",
    "opt = optim.Adam(model.parameters(), lr=0.0001)"
   ]
  },
  {
   "cell_type": "code",
   "execution_count": 55,
   "metadata": {
    "ExecuteTime": {
     "end_time": "2019-05-14T00:10:07.107925Z",
     "start_time": "2019-05-14T00:10:07.011162Z"
    }
   },
   "outputs": [
    {
     "name": "stdout",
     "output_type": "stream",
     "text": [
      "4\n",
      "torch.Size([600, 30])\n"
     ]
    }
   ],
   "source": [
    "params = list(model.parameters())\n",
    "print(len(params))\n",
    "print(params[0].size())"
   ]
  },
  {
   "cell_type": "markdown",
   "metadata": {},
   "source": [
    "Probemos con un dato generado al azar"
   ]
  },
  {
   "cell_type": "code",
   "execution_count": 56,
   "metadata": {
    "ExecuteTime": {
     "end_time": "2019-05-14T00:10:07.212494Z",
     "start_time": "2019-05-14T00:10:07.112382Z"
    }
   },
   "outputs": [
    {
     "data": {
      "text/plain": [
       "tensor([[[0.5823, 0.4829]]], grad_fn=<SigmoidBackward>)"
      ]
     },
     "execution_count": 56,
     "metadata": {},
     "output_type": "execute_result"
    }
   ],
   "source": [
    "x = torch.rand(1, 1, 30)\n",
    "out = model(x)\n",
    "out"
   ]
  },
  {
   "cell_type": "code",
   "execution_count": 57,
   "metadata": {
    "ExecuteTime": {
     "end_time": "2019-05-14T00:10:12.091787Z",
     "start_time": "2019-05-14T00:10:07.223756Z"
    }
   },
   "outputs": [
    {
     "name": "stdout",
     "output_type": "stream",
     "text": [
      "Finished Training\n"
     ]
    }
   ],
   "source": [
    "n_epochs = 20\n",
    "\n",
    "losses = []\n",
    "\n",
    "for epoch in range(n_epochs):  # loop over the dataset multiple times\n",
    "\n",
    "    running_loss = 0.0\n",
    "    for i, data in enumerate(trainloader, 0):\n",
    "        # recibir inputs\n",
    "        inputs, labels = data\n",
    "\n",
    "        # setear gradientes a 0\n",
    "        opt.zero_grad()\n",
    "\n",
    "        # forward\n",
    "        outputs = model(inputs)\n",
    "        # obtener loss\n",
    "        loss = criterion(outputs, labels)\n",
    "        # backward\n",
    "        loss.backward()\n",
    "        # optimizar\n",
    "        opt.step()\n",
    "\n",
    "        # mostrar la loss\n",
    "        running_loss += loss.item()\n",
    "        \n",
    "        if i % 30 == 29:    # mostrar cada 19 mini batches\n",
    "            print('[%d, %5d] loss: %.3f' %\n",
    "                  (epoch + 1, i + 1, running_loss / 30))\n",
    "            running_loss = 0.0\n",
    "        # guardar loss\n",
    "        losses.append(loss.data.numpy())\n",
    "\n",
    "print('Finished Training')"
   ]
  },
  {
   "cell_type": "code",
   "execution_count": 58,
   "metadata": {
    "ExecuteTime": {
     "end_time": "2019-05-14T00:10:12.362003Z",
     "start_time": "2019-05-14T00:10:12.095875Z"
    }
   },
   "outputs": [
    {
     "data": {
      "text/plain": [
       "Text(0.5, 1.0, 'Perdida en función de las Épocas')"
      ]
     },
     "execution_count": 58,
     "metadata": {},
     "output_type": "execute_result"
    },
    {
     "data": {
      "image/png": "[encoded data removed]",
      "text/plain": [
       "<Figure size 864x360 with 1 Axes>"
      ]
     },
     "metadata": {},
     "output_type": "display_data"
    }
   ],
   "source": [
    "plt.figure(figsize=(12, 5))\n",
    "plt.xlabel('Epocas')\n",
    "plt.ylabel('Loss')\n",
    "plt.plot(np.linspace(1, n_epochs, len(losses)), losses)\n",
    "plt.xticks(np.arange(0, n_epochs + 1, 5));\n",
    "plt.xlim(0, n_epochs + 1)\n",
    "plt.title('Perdida en función de las Épocas')"
   ]
  },
  {
   "cell_type": "markdown",
   "metadata": {},
   "source": [
    "#### Evaluemos nuestro modelo"
   ]
  },
  {
   "cell_type": "markdown",
   "metadata": {
    "ExecuteTime": {
     "end_time": "2019-05-13T23:52:18.682757Z",
     "start_time": "2019-05-13T23:52:18.661432Z"
    }
   },
   "source": [
    "__Accuracy en test set__ "
   ]
  },
  {
   "cell_type": "code",
   "execution_count": 59,
   "metadata": {
    "ExecuteTime": {
     "end_time": "2019-05-14T00:10:12.378038Z",
     "start_time": "2019-05-14T00:10:12.363867Z"
    }
   },
   "outputs": [
    {
     "data": {
      "text/plain": [
       "0.9308510638297872"
      ]
     },
     "execution_count": 59,
     "metadata": {},
     "output_type": "execute_result"
    }
   ],
   "source": [
    "y_pred = model(X_test).detach().numpy()\n",
    "\n",
    "y_pred = y_pred.argmax(1)\n",
    "\n",
    "(1 - np.abs(y_test.numpy() - y_pred)).sum() / len(y_test)"
   ]
  },
  {
   "cell_type": "code",
   "execution_count": null,
   "metadata": {},
   "outputs": [],
   "source": []
  }
 ],
 "metadata": {
  "kernelspec": {
   "display_name": "torch",
   "language": "python",
   "name": "torch"
  },
  "language_info": {
   "codemirror_mode": {
    "name": "ipython",
    "version": 3
   },
   "file_extension": ".py",
   "mimetype": "text/x-python",
   "name": "python",
   "nbconvert_exporter": "python",
   "pygments_lexer": "ipython3",
   "version": "3.7.2"
  }
 },
 "nbformat": 4,
 "nbformat_minor": 2
}
